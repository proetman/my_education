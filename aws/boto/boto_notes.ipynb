{
 "cells": [
  {
   "cell_type": "markdown",
   "metadata": {},
   "source": [
    "# Boto"
   ]
  },
  {
   "cell_type": "markdown",
   "metadata": {},
   "source": [
    "## Session\n",
    "\n",
    "* initiate the connectivity to AWS services. \n",
    "* e.g. following is default session that use the default credential profile(e.g. ~/.aws/credentials, or assume your EC2 using IAM instance profile )\n",
    "\n",
    "```\n",
    "sqs = boto3.client('sqs')\n",
    "s3 = boto3.resource('s3')\n",
    "```\n",
    "\n",
    "* Default session is limit to the profile or instance profile used\n",
    "* sometime you need to use the custom session to override the default session configuration (e.g. region_name, endpoint_url, etc. ) e.g.\n",
    "\n",
    "```\n",
    "# custom resource session must use boto3.session to do the override\n",
    "my_west_session = boto3.session(region_name = 'us-west-2')\n",
    "my_east_sesison = boto3.session(region_name = 'us-east-1')\n",
    "backup_s3 = my_west_session.resource('s3')\n",
    "video_s3 = my_east_sesison.resource('s3')\n",
    "```\n",
    "```\n",
    "# you have two choices of create custom client session. \n",
    "backup_s3c = my_west_session.client('s3')\n",
    "video_s3c = boto3.client(\"s3\", region_name = 'us-east-1')\n",
    "```\n",
    "\n",
    "## Resource\n",
    "\n",
    "* high level service class recommended to be used. \n",
    "* allow you to tied particular AWS resources and pass it along\n",
    "* just use this abstraction than worry which target services is pointed to. \n",
    "* As you notice from the session part, if you have a custom session, you just pass this abstract object than worrying of all custom region,etc to pass along. Following is a complicate example \n",
    "* Example: \n",
    "\n",
    "```\n",
    "import boto3 \n",
    "my_west_session = boto3.session(region_name = 'us-west-2')\n",
    "my_east_sesison = boto3.session(region_name = 'us-east-1')\n",
    "backup_s3 = my_west_session.resource(\"s3\")\n",
    "video_s3 = my_east_sesison.resource(\"s3\")\n",
    "backup_bucket = backup_s3.Bucket('backupbucket') \n",
    "video_bucket = video_s3.Bucket('videobucket')\n",
    "\n",
    "# just pass the instantiated bucket object\n",
    "def list_bucket_contents(bucket):\n",
    "   for object in bucket.objects.all():\n",
    "      print(object.key)\n",
    "\n",
    "list_bucket_contents(backup_bucket)\n",
    "list_bucket_contents(video_bucket)\n",
    "\n",
    "```\n",
    "\n",
    "## Client\n",
    "\n",
    "* low level class object. \n",
    "* For each client call, you need to explicitly specify the targeting resources, the designated service target name must be pass long. \n",
    "* You will lost the abstraction ability.\n",
    "* For example, if you only deal with default session, this looks similar to boto3.resource.\n",
    "\n",
    "```\n",
    "import boto3 \n",
    "s3 = boto3.client('s3')\n",
    "\n",
    "def list_bucket_contents(bucket_name):\n",
    "   for object in s3.list_objects_v2(Bucket=bucket_name) :\n",
    "      print(object.key)\n",
    "\n",
    "list_bucket_contents('Mybucket') \n",
    "```\n",
    "\n",
    "* However, if you want to list objects from bucket in different region, you need to specify explicit bucket parameter required for client.\n",
    "\n",
    "```\n",
    "import boto3 \n",
    "backup_s3 = my_west_session.client('s3',region_name = 'us-west-2')\n",
    "video_s3 = my_east_sesison.client('s3',region_name = 'us-east-1')\n",
    "\n",
    "# you must pass boto3.session.client and the bucket name \n",
    "def list_bucket_contents(s3session, bucket_name):\n",
    "   for object in s3session.list_objects_v2(Bucket=bucket_name) :\n",
    "      print(object.key)\n",
    "\n",
    "list_bucket_contents(backup_s3, 'backupbucket')\n",
    "list_bucket_contents(video_s3 , 'videobucket') \n",
    "```"
   ]
  },
  {
   "cell_type": "code",
   "execution_count": null,
   "metadata": {},
   "outputs": [],
   "source": []
  }
 ],
 "metadata": {
  "kernelspec": {
   "display_name": "Python 2",
   "language": "python",
   "name": "python2"
  },
  "language_info": {
   "codemirror_mode": {
    "name": "ipython",
    "version": 2
   },
   "file_extension": ".py",
   "mimetype": "text/x-python",
   "name": "python",
   "nbconvert_exporter": "python",
   "pygments_lexer": "ipython2",
   "version": "2.7.14"
  },
  "toc": {
   "nav_menu": {},
   "number_sections": true,
   "sideBar": true,
   "skip_h1_title": false,
   "toc_cell": false,
   "toc_position": {},
   "toc_section_display": "block",
   "toc_window_display": true
  },
  "varInspector": {
   "cols": {
    "lenName": 16,
    "lenType": 16,
    "lenVar": 40
   },
   "kernels_config": {
    "python": {
     "delete_cmd_postfix": "",
     "delete_cmd_prefix": "del ",
     "library": "var_list.py",
     "varRefreshCmd": "print(var_dic_list())"
    },
    "r": {
     "delete_cmd_postfix": ") ",
     "delete_cmd_prefix": "rm(",
     "library": "var_list.r",
     "varRefreshCmd": "cat(var_dic_list()) "
    }
   },
   "types_to_exclude": [
    "module",
    "function",
    "builtin_function_or_method",
    "instance",
    "_Feature"
   ],
   "window_display": true
  }
 },
 "nbformat": 4,
 "nbformat_minor": 2
}
