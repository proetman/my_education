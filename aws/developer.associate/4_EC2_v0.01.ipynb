{
 "cells": [
  {
   "cell_type": "markdown",
   "metadata": {},
   "source": [
    "# EC2\n"
   ]
  },
  {
   "cell_type": "markdown",
   "metadata": {},
   "source": [
    "* EC2 stands for Elastic Compute Cloud\n",
    "\n",
    "* web service that provides resizable compute compute capacity in cloud.\n",
    "* reduce time req to obtain, boot new server to minutes\n",
    "* allows quick scale in capacity both up and down and requirements change.\n",
    "\n",
    "* what is it? It is a virtual linux|windows server\n",
    "\n",
    "* Startups now do not require dollars for hardware, they can experiment!\n",
    "\n",
    "* allow you to pay only for the capacity that you actually use.\n",
    "* provides dev the tools to build failure resilient applications and isolate themselves from common failure scenarios\n",
    "\n",
    "## EC2 Options\n",
    "\n",
    "* __On Demand__ allow you to pay fixed rate by hour or second with no commitment\n",
    "    * users want low cost, flexibility of ec2 without up front payment or commitment\n",
    "    * apps with short term, spiky or unpredictable workloads that cannot be interrupted\n",
    "    * apps developed or tested on ec2 for first time\n",
    "    \n",
    "* __reserved__ provide you with capacity reservation, offer significant discount on hourly charge, 1 year or 3 year terms.\n",
    "    * steady state or predicatable usage\n",
    "    * apps that require reserved capacity\n",
    "    * user able to make up front payments to reduce compute costs even further\n",
    "    * standard RI (up to 75% discount)  RI = reserved instance; \n",
    "    * convertible RI ( up to 54% discount) capability to change attributes of RI as long as the exchange results in the createion of RI of equal or greater value\n",
    "    * scheduled RI's available to launch within timeframe you reserve. Match capacity to predictable recurrinng schedule (eg batch jobs)\n",
    "    \n",
    "* __spot__ bid whatever price you want for instance capacity, providing for even greater savings if your applications have flexible start and end times. You set your bid price (how much you are willing pay), if the price goes above your price, your machine shuts down. If below, then your machine fires up!\n",
    "    * flexible start/end times\n",
    "    * apps that are only feasible at very low compute prices\n",
    "    * users with urgent computing needs for large amounts of additional capacity\n",
    "    * if you terminate instance before hour is complete, you pay for whole hour anyway.\n",
    "    * if amazon terminates instance, you get the hour it was terminated in for free!  :)\n",
    "    \n",
    "* __Dedicated Hosts__ physical ec2 server dedicated for your use. reduce cost by allowing you to use your existing server-bound software licenses.\n",
    "    * useful for regulatory req that doesn't support multi tenant virtualization\n",
    "    * great for licensing that doesn't support multi tenant v.\n",
    "    * can be purchased on-demand (hourly)\n",
    "    * can be purchased as a reservation for up to 70% off the on demand price.\n",
    "\n"
   ]
  },
  {
   "cell_type": "markdown",
   "metadata": {},
   "source": [
    "Letter is type, Number is generation\n",
    "\n",
    "eg D for Dense, 2 for 2nd generation!\n",
    "\n",
    "\n",
    "| Family | Speciality | Use Case |\n",
    "| ---    | ---        | ---      |\n",
    "| d2 | Dense Storage | Fileservers / Data Warehouse|\n",
    "| r4 | Memory Optimized | Mem intesive apps  (r = ram)|\n",
    "| m4 | General Purpose | Application SErvers  (m = main choice)|\n",
    "| c4 | Compute Optimized | CPU intensive |\n",
    "| g2 | Graphics intesive| video encoding/3d app streaming|\n",
    "| i2 | High Speed Storage | nosql, data warehsouse  (i = iops)|\n",
    "| f1 | field programmable gate array | hardware accelarate your code |\n",
    "| t2 | low cost general purpose | web servers/ small db (t= tiny) |\n",
    "| p2 | graphics / general purpose GPU | machine learning, bit coin mining  |\n",
    "| x1 | memory optimized| SAP Hana/Apache Spark/etc (x=extream memory)|\n",
    "\n",
    "\n",
    "##### ec2 intance types\n",
    "* d - density\n",
    "* r - ram\n",
    "* m - main choice\n",
    "* c - compute\n",
    "* g - graphics\n",
    "* i - iops\n",
    "* f - fpga\n",
    "* t - tiny general purpose\n",
    "* p - graphics\n",
    "* x - extreame memory\n",
    "\n",
    "dr mc gift px\n",
    "\n",
    "\n"
   ]
  },
  {
   "cell_type": "markdown",
   "metadata": {},
   "source": [
    "# EBS"
   ]
  },
  {
   "cell_type": "markdown",
   "metadata": {},
   "source": [
    "__ebs__ allows you to\n",
    "* create storage volumes and attach them to ec2 instance\n",
    "* create file system on that volume\n",
    "* they are placed in a specific availability zone where they are automatically replicated to protect from failure of a single component.\n",
    "* block based storage (so can install OS, DB, etc), not file based like S3\n",
    "\n",
    "* you cannot mount 1 EBS volume to multiple EC2 instances, instead use EFS\n",
    "\n",
    "### EBS Volume Types\n",
    "* 4 or 5 of them\n",
    "* General Purpose SSD (GP2)\n",
    "    * balance price and performance\n",
    "    * 3 IOPS per gig, up to 10,000 IPOS; ability to burst up to 3000 IOPS for extended periods of time for volumns at 3334 GiB and above\n",
    "* Provisioned IOPS SSD (IO1) \n",
    "    * IO intensive apps like large db or nosql db\n",
    "    * use if need more than 10,000 IOPS\n",
    "    * up to 20,000 IOPS\n",
    "* Throughput Optimized HDD (ST1) \n",
    "    * old style hard drive (magnetic)\n",
    "    * big data]\n",
    "    * data warehaouse\n",
    "    * log processing\n",
    "    * cannot be a boot volume\n",
    "* Cold HDD (SC1)\n",
    "    * lowest cost storage for infrequence accessed workloads\n",
    "    * file server\n",
    "    * not boot volume\n",
    "* magnetic (standard)\n",
    "    * lowest cost per gig that is bootable. mag vol ideal for workloads where data is access infrequently, apps where lowest storage cost is important\n",
    "\n"
   ]
  },
  {
   "cell_type": "markdown",
   "metadata": {},
   "source": [
    "## Launch EC2 - ec2 lab 101"
   ]
  },
  {
   "cell_type": "markdown",
   "metadata": {},
   "source": [
    "Two types of virtualization\n",
    "* HVM hyper virtual machine\n",
    "* PVM Para virtual machine   NFI what the difference is.\n",
    "\n",
    "Launch\n",
    "* select Amazon Linux AMI (HVM), includes bunch of stuff including aws cli)\n",
    "* subnet: one subnet = one availability zone, a subnet cannot cross av. zones.\n",
    "* In Advanced Details > User Data: can add details like download and install anaconconda, install product x, etc.\n",
    "* Security Groups === Firewall\n"
   ]
  },
  {
   "cell_type": "code",
   "execution_count": null,
   "metadata": {},
   "outputs": [],
   "source": []
  }
 ],
 "metadata": {
  "kernelspec": {
   "display_name": "Python 2",
   "language": "python",
   "name": "python2"
  },
  "language_info": {
   "codemirror_mode": {
    "name": "ipython",
    "version": 2
   },
   "file_extension": ".py",
   "mimetype": "text/x-python",
   "name": "python",
   "nbconvert_exporter": "python",
   "pygments_lexer": "ipython2",
   "version": "2.7.14"
  },
  "toc": {
   "nav_menu": {},
   "number_sections": true,
   "sideBar": true,
   "skip_h1_title": false,
   "toc_cell": false,
   "toc_position": {},
   "toc_section_display": "block",
   "toc_window_display": true
  },
  "varInspector": {
   "cols": {
    "lenName": 16,
    "lenType": 16,
    "lenVar": 40
   },
   "kernels_config": {
    "python": {
     "delete_cmd_postfix": "",
     "delete_cmd_prefix": "del ",
     "library": "var_list.py",
     "varRefreshCmd": "print(var_dic_list())"
    },
    "r": {
     "delete_cmd_postfix": ") ",
     "delete_cmd_prefix": "rm(",
     "library": "var_list.r",
     "varRefreshCmd": "cat(var_dic_list()) "
    }
   },
   "types_to_exclude": [
    "module",
    "function",
    "builtin_function_or_method",
    "instance",
    "_Feature"
   ],
   "window_display": false
  }
 },
 "nbformat": 4,
 "nbformat_minor": 2
}
