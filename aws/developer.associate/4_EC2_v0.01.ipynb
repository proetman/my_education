{
 "cells": [
  {
   "cell_type": "markdown",
   "metadata": {},
   "source": [
    "# EC2\n"
   ]
  },
  {
   "cell_type": "markdown",
   "metadata": {},
   "source": [
    "* EC2 stands for Elastic Compute Cloud\n",
    "\n",
    "* web service that provides resizable compute compute capacity in cloud.\n",
    "* reduce time req to obtain, boot new server to minutes\n",
    "* allows quick scale in capacity both up and down and requirements change.\n",
    "\n",
    "* what is it? It is a virtual linux|windows server\n",
    "\n",
    "* Startups now do not require dollars for hardware, they can experiment!\n",
    "\n",
    "* allow you to pay only for the capacity that you actually use.\n",
    "* provides dev the tools to build failure resilient applications and isolate themselves from common failure scenarios\n",
    "\n",
    "## EC2 Options\n",
    "\n",
    "* __On Demand__ allow you to pay fixed rate by hour or second with no commitment\n",
    "    * users want low cost, flexibility of ec2 without up front payment or commitment\n",
    "    * apps with short term, spiky or unpredictable workloads that cannot be interrupted\n",
    "    * apps developed or tested on ec2 for first time\n",
    "    \n",
    "* __reserved__ provide you with capacity reservation, offer significant discount on hourly charge, 1 year or 3 year terms.\n",
    "    * steady state or predicatable usage\n",
    "    * apps that require reserved capacity\n",
    "    * user able to make up front payments to reduce compute costs even further\n",
    "    * standard RI (up to 75% discount)  RI = reserved instance; \n",
    "    * convertible RI ( up to 54% discount) capability to change attributes of RI as long as the exchange results in the createion of RI of equal or greater value\n",
    "    * scheduled RI's available to launch within timeframe you reserve. Match capacity to predictable recurrinng schedule (eg batch jobs)\n",
    "    \n",
    "* __spot__ bid whatever price you want for instance capacity, providing for even greater savings if your applications have flexible start and end times. You set your bid price (how much you are willing pay), if the price goes above your price, your machine shuts down. If below, then your machine fires up!\n",
    "    * flexible start/end times\n",
    "    * apps that are only feasible at very low compute prices\n",
    "    * users with urgent computing needs for large amounts of additional capacity\n",
    "    * if you terminate instance before hour is complete, you pay for whole hour anyway.\n",
    "    * if amazon terminates instance, you get the hour it was terminated in for free!  :)\n",
    "    \n",
    "* __Dedicated Hosts__ physical ec2 server dedicated for your use. reduce cost by allowing you to use your existing server-bound software licenses.\n",
    "    * useful for regulatory req that doesn't support multi tenant virtualization\n",
    "    * great for licensing that doesn't support multi tenant v.\n",
    "    * can be purchased on-demand (hourly)\n",
    "    * can be purchased as a reservation for up to 70% off the on demand price.\n",
    "\n"
   ]
  },
  {
   "cell_type": "markdown",
   "metadata": {},
   "source": [
    "Letter is type, Number is generation\n",
    "\n",
    "eg D for Dense, 2 for 2nd generation!\n",
    "\n",
    "\n",
    "| Family | Speciality | Use Case |\n",
    "| ---    | ---        | ---      |\n",
    "| d2 | Dense Storage | Fileservers / Data Warehouse|\n",
    "| r4 | Memory Optimized | Mem intesive apps  (r = ram)|\n",
    "| m4 | General Purpose | Application SErvers  (m = main choice)|\n",
    "| c4 | Compute Optimized | CPU intensive |\n",
    "| g2 | Graphics intesive| video encoding/3d app streaming|\n",
    "| i2 | High Speed Storage | nosql, data warehsouse  (i = iops)|\n",
    "| f1 | field programmable gate array | hardware accelarate your code |\n",
    "| t2 | low cost general purpose | web servers/ small db (t= tiny) |\n",
    "| p2 | graphics / general purpose GPU | machine learning, bit coin mining  |\n",
    "| x1 | memory optimized| SAP Hana/Apache Spark/etc (x=extream memory)|\n",
    "\n",
    "\n",
    "##### ec2 intance types\n",
    "* d - density\n",
    "* r - ram\n",
    "* m - main choice\n",
    "* c - compute\n",
    "* g - graphics\n",
    "* i - iops\n",
    "* f - fpga\n",
    "* t - tiny general purpose\n",
    "* p - graphics\n",
    "* x - extreame memory\n",
    "\n",
    "dr mc gift px\n",
    "\n",
    "\n"
   ]
  },
  {
   "cell_type": "markdown",
   "metadata": {},
   "source": [
    "# EBS"
   ]
  },
  {
   "cell_type": "markdown",
   "metadata": {},
   "source": [
    "__ebs__ allows you to\n",
    "* create storage volumes and attach them to ec2 instance\n",
    "* create file system on that volume\n",
    "* they are placed in a specific availability zone where they are automatically replicated to protect from failure of a single component.\n",
    "* block based storage (so can install OS, DB, etc), not file based like S3\n",
    "\n",
    "* you cannot mount 1 EBS volume to multiple EC2 instances, instead use EFS\n",
    "\n",
    "### EBS Volume Types\n",
    "* 4 or 5 of them\n",
    "* General Purpose SSD (GP2)\n",
    "    * balance price and performance\n",
    "    * 3 IOPS per gig, up to 10,000 IPOS; ability to burst up to 3000 IOPS for extended periods of time for volumns at 3334 GiB and above\n",
    "* Provisioned IOPS SSD (IO1) \n",
    "    * IO intensive apps like large db or nosql db\n",
    "    * use if need more than 10,000 IOPS\n",
    "    * up to 20,000 IOPS\n",
    "* Throughput Optimized HDD (ST1) \n",
    "    * old style hard drive (magnetic)\n",
    "    * big data]\n",
    "    * data warehaouse\n",
    "    * log processing\n",
    "    * cannot be a boot volume\n",
    "* Cold HDD (SC1)\n",
    "    * lowest cost storage for infrequence accessed workloads\n",
    "    * file server\n",
    "    * not boot volume\n",
    "* magnetic (standard)\n",
    "    * lowest cost per gig that is bootable. mag vol ideal for workloads where data is access infrequently, apps where lowest storage cost is important\n",
    "\n"
   ]
  },
  {
   "cell_type": "markdown",
   "metadata": {},
   "source": [
    "## Launch EC2 - ec2 lab 101"
   ]
  },
  {
   "cell_type": "markdown",
   "metadata": {},
   "source": [
    "Two types of virtualization\n",
    "* HVM hyper virtual machine\n",
    "* PVM Para virtual machine   NFI what the difference is.\n",
    "\n",
    "Launch\n",
    "* select Amazon Linux AMI (HVM), includes bunch of stuff including aws cli)\n",
    "* subnet: one subnet = one availability zone, a subnet cannot cross av. zones.\n",
    "* In Advanced Details > User Data: can add details like download and install anaconconda, install product x, etc.\n",
    "* Security Groups === Firewall\n"
   ]
  },
  {
   "cell_type": "markdown",
   "metadata": {},
   "source": [
    "* Connect to EC2\n",
    "```\n",
    "ssh -i \"cloudops_training.pem\" ec2-user@ec2-13-54-65-78.ap-southeast-2.compute.amazonaws.com\n",
    "```\n",
    "\n",
    "* Install Apache\n",
    "```\n",
    "yum update\n",
    "yum install httpd\n",
    "cd /var/www/html\n",
    "vi index.html\n",
    "<html><h1>Hello Cloud Gurus!</h1></html>\n",
    ":wq\n",
    "service httpd start\n",
    "chkconfig httpd on      # start httpd on boot.\n",
    "```\n",
    "* Navigate on web browser to public name, and web page will start!"
   ]
  },
  {
   "cell_type": "markdown",
   "metadata": {
    "ExecuteTime": {
     "end_time": "2017-11-16T20:20:25.733566Z",
     "start_time": "2017-11-16T20:20:25.727753Z"
    }
   },
   "source": [
    "* EC2 Console\n",
    "\n",
    "* System Status Check - verifies that the hardware to connect to your virtual machine is ok.\n",
    "* Instance Status Check - verifies that your machine is ok."
   ]
  },
  {
   "cell_type": "markdown",
   "metadata": {},
   "source": [
    "* Reserved Instances\n",
    "* select reserved instance from menu\n",
    "* select options\n",
    "* review costs"
   ]
  },
  {
   "cell_type": "markdown",
   "metadata": {},
   "source": [
    "Note:\n",
    "* Termination Protection is turned off by default, you must turn it on\n",
    "* on EBS instance, default actions if for root EBS vol to be deleted when instance is terminated.\n",
    "* EBS root vol of DEFAULT ami cannot be encrypted.\n",
    "    * can use 3rd party tools to encrypt (eg bit locker on windows)\n",
    "    * create your own AMI, in process - encrypt root vol.\n",
    "* Additional volumes can be encrypted."
   ]
  },
  {
   "cell_type": "markdown",
   "metadata": {},
   "source": [
    "## PUTTY and PUTTYKeyGen"
   ]
  },
  {
   "cell_type": "markdown",
   "metadata": {},
   "source": [
    "* when creating an EC2, save PEM file\n",
    "* use puttykeygen to convert PEM to PPK\n",
    "* save PPK file into putty config\n",
    "* good to go!"
   ]
  },
  {
   "cell_type": "markdown",
   "metadata": {},
   "source": [
    "## Security Groups\n",
    "\n",
    "* From security Groups on AWS console\n",
    "* any change applied immediatly\n",
    "* if remove HTTP from a rule, then HTTP is no longer available.\n",
    "\n",
    "* Rules are STATEFUL\n",
    "* if you allow something IN, then it is automatically allowed back out.\n",
    "* you can remove the rules for OUTBOUND, and everything still works.\n",
    "* ssh session freezes though\n",
    "\n",
    "* Everything is deny by default.\n",
    "* can add multiple security groups to a single machine, they are cumulative.\n",
    "* there is no deny, so cannot be a conflict.\n",
    "\n",
    "* NACL are STATELESS (inbound does not allow outbound). NACL network access control list\n",
    "* cannot block using SG, need to use NACL"
   ]
  },
  {
   "cell_type": "markdown",
   "metadata": {},
   "source": [
    "## Storage  \n",
    "---\n",
    "\n",
    "* create an EC2 with a bunch of different storage types\n",
    "* navigate to volumes \n",
    "    * select gp2 (boot volume)\n",
    "    * actions > create snapshot\n",
    "* Once created, navigate to snapshots, then you can create a volumn from a snapshot\n",
    "* you can determine the availability zone it should reside in\n",
    "* you can change the volume type (SSD, Cold HDD, etc)\n",
    "---\n",
    "* more in snapshots\n",
    "* copy - can copy a snapshot to anywhere in the world (ie change region).\n",
    "* so, to move an instance from one region to another\n",
    "    * create snapshot\n",
    "    * copy snapshot to other region\n",
    "    * create image from snapshot\n",
    "    * create ec2 from volume\n",
    "    \n",
    "--- \n",
    "* To create a new image:\n",
    "    * create snapshot\n",
    "    * select snapshot, actions > create image\n",
    "    * navigate to Images > AMI (takes a while to show up)\n",
    "    \n",
    "---\n",
    "* NOTE: if create image from snapshot from machine with multiple disks, it fucks up.\n",
    "* instead, create image from working machine and in the process, remove the extra disks\n",
    "* running machine > actions > create image > remove extra disks > go\n",
    "\n",
    "--- \n",
    "* NOTE2: when terminating (deleting) instances, only the root volume is removed. ANy other volume needs to be manully removed from the volume tab.\n",
    "\n",
    "---\n",
    "* Volumes exist on EBS - they are just a virtual hard disk\n",
    "* root devise is where OS installed\n",
    "* snapshot exist on S3 (but it is not visible)\n",
    "* snapshot is a point in time of volume\n",
    "* after time, next snap is just the diff from the prev snap.\n",
    "\n",
    "* to backup a EBS root vol, should probably stop instance first.\n",
    "* but you can take a snap while running\n",
    "* create AMI from volume or snapshot\n",
    "* can change EBS vol size on fly... and also change storage type on the fly\n",
    "* volumes always in the same availability zone as the  ec2 \n",
    "---\n",
    "* snapshots of encrypted vol are encrypted automatically\n",
    "* vol restored from encrypted snapshot are encrypted automatically\n",
    "* you can share snapshot, but only if unencrypted\n",
    "* snapshot can be shared with other aws accounts, or made public.\n",
    "---\n",
    "\n",
    "\n"
   ]
  },
  {
   "cell_type": "markdown",
   "metadata": {},
   "source": [
    "## EFS - Elastic File System\n",
    "---\n",
    "* file storage for Elastic compute Cloud (EC2)\n",
    "* create and configure file systems quickly \n",
    "* storage is elastic, grow and shrink automagically as you add/remove files\n",
    "---\n",
    "* support NFSv4 - Network File System ver 4\n",
    "* only pay for what you use (no pre-provisioning)\n",
    "* scale up to petabyte\n",
    "* can support thousands of concurrent NFS connections\n",
    "* data is stored across multiple AZ within a region\n",
    "* block based storage (not object based storage), can share with other ec2 instances\n",
    "* Read after Write consistency\n"
   ]
  },
  {
   "cell_type": "markdown",
   "metadata": {},
   "source": [
    "### Setup Web Server with load balancing"
   ]
  },
  {
   "cell_type": "markdown",
   "metadata": {},
   "source": [
    "* Navigate to EFS > create filesystem > defaults and Tags > Create\n",
    "* Create 2 EC2 instances with httpd installed, on each, set the subnet to a different AZ\n",
    "    * check that EC2 instances are in same security group as the EFS \n",
    "* Create a Load Balancer > give it a name > default VPC > Security Group > Add in both EC2 instances\n",
    "* Install httpd on both, and start\n",
    "* verify /var/www/html is empty on both machines\n",
    "* Navigate back to EFS > Select your EFS > click on \"ec2 mount instructions\". Most of the software has already been installed...just need the last command.\n",
    "    * sudo mount -t nfs $(curl -a http://x.x.x.x/latest/meta-data/placement/availability-zone).fs...com:/ efs\n",
    "    * default is to mount onto /efs (last part of command above)\n",
    "    * change to sudo mount -t nfs $(curl -a http://x.x.x.x/latest/meta-data/placement/availability-zone).fs...com:/ /var/www/html\n",
    "    * create index.html with stuff in it\n",
    "* go to Load Balancer > instances > check health - shoudl be \"in service\"\n",
    "* description tab gives DNS name, navigate to there, should be your web page!"
   ]
  },
  {
   "cell_type": "code",
   "execution_count": null,
   "metadata": {},
   "outputs": [],
   "source": []
  }
 ],
 "metadata": {
  "kernelspec": {
   "display_name": "Python 2",
   "language": "python",
   "name": "python2"
  },
  "language_info": {
   "codemirror_mode": {
    "name": "ipython",
    "version": 2
   },
   "file_extension": ".py",
   "mimetype": "text/x-python",
   "name": "python",
   "nbconvert_exporter": "python",
   "pygments_lexer": "ipython2",
   "version": "2.7.14"
  },
  "toc": {
   "nav_menu": {},
   "number_sections": true,
   "sideBar": true,
   "skip_h1_title": false,
   "toc_cell": false,
   "toc_position": {},
   "toc_section_display": "block",
   "toc_window_display": true
  },
  "varInspector": {
   "cols": {
    "lenName": 16,
    "lenType": 16,
    "lenVar": 40
   },
   "kernels_config": {
    "python": {
     "delete_cmd_postfix": "",
     "delete_cmd_prefix": "del ",
     "library": "var_list.py",
     "varRefreshCmd": "print(var_dic_list())"
    },
    "r": {
     "delete_cmd_postfix": ") ",
     "delete_cmd_prefix": "rm(",
     "library": "var_list.r",
     "varRefreshCmd": "cat(var_dic_list()) "
    }
   },
   "types_to_exclude": [
    "module",
    "function",
    "builtin_function_or_method",
    "instance",
    "_Feature"
   ],
   "window_display": false
  }
 },
 "nbformat": 4,
 "nbformat_minor": 2
}
