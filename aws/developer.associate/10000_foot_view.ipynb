{
 "cells": [
  {
   "cell_type": "markdown",
   "metadata": {},
   "source": [
    "# 10000 foot overview"
   ]
  },
  {
   "cell_type": "markdown",
   "metadata": {},
   "source": [
    "* Region: Geographical area. Each region consists of 2 (or more) Availability Zones\n",
    "* Availability Zone: Data Centre  \n",
    "e.g. Region may consist of 3  data centres, AZ-A, AZ-B, AZ-C\n",
    "\n"
   ]
  },
  {
   "cell_type": "markdown",
   "metadata": {},
   "source": [
    "### Edge Location\n",
    "* CDN End Point for CloudFront (content delivery network)\n",
    "* used to cache very large media file distribution\n",
    "    * first access, needs to be downloaded from source (eg New York)\n",
    "    * second time it is called, it would have been cached in Oz on Edge Location, so much faster.\n",
    "* many more edge locations than there are regions."
   ]
  },
  {
   "cell_type": "markdown",
   "metadata": {
    "ExecuteTime": {
     "end_time": "2017-11-13T11:30:19.840793Z",
     "start_time": "2017-11-13T11:30:19.838862Z"
    }
   },
   "source": [
    "## Services"
   ]
  },
  {
   "cell_type": "markdown",
   "metadata": {},
   "source": [
    "### Networking and Content Delivery\n",
    "\n",
    "    "
   ]
  },
  {
   "cell_type": "markdown",
   "metadata": {},
   "source": [
    "#### VPC - Virtual Private Cloud\n",
    "* VPC: virtual private cloud\n",
    "* think of it as a virtual data centre\n",
    "* multiple VPC per region\n",
    "* can connect one VPC to another VPC   \n",
    "* Huge part of exam....\n"
   ]
  },
  {
   "cell_type": "markdown",
   "metadata": {},
   "source": [
    "#### Rout53 - DNS\n",
    "* Route53: Amazon DNS system\n",
    "* 53 is DNS port on the static port list, named after Route 66 (first interstate opened in USA\n"
   ]
  },
  {
   "cell_type": "markdown",
   "metadata": {},
   "source": [
    "#### Cloud Front\n",
    "* used to be in storage section\n",
    "* basically a collection of edge locations"
   ]
  },
  {
   "cell_type": "markdown",
   "metadata": {},
   "source": [
    "#### Direct Connect\n",
    "* Dedicated telephone line connection directly into AWS data centre\n",
    "    * security\n",
    "    * high speed"
   ]
  },
  {
   "cell_type": "markdown",
   "metadata": {},
   "source": [
    "### Compute"
   ]
  },
  {
   "cell_type": "markdown",
   "metadata": {},
   "source": [
    "#### EC2 - Elastic Compute Cloud\n",
    "* Virtual machine in cloud (like VMWare)\n"
   ]
  },
  {
   "cell_type": "markdown",
   "metadata": {
    "ExecuteTime": {
     "end_time": "2017-11-13T11:40:57.873823Z",
     "start_time": "2017-11-13T11:40:57.868581Z"
    }
   },
   "source": [
    "#### EC2 Container Service\n",
    "* Hightly Scalable Highly Performing  Container Management Service\n",
    "* docker containers\n",
    "* run app on managed cluster of ec2 instances\n",
    "* no need to install, manage, etc your own hardware"
   ]
  },
  {
   "cell_type": "markdown",
   "metadata": {
    "ExecuteTime": {
     "end_time": "2017-11-13T11:41:38.080020Z",
     "start_time": "2017-11-13T11:41:38.076227Z"
    }
   },
   "source": [
    "#### Elastic Beanstalk\n",
    "* You upload your code\n",
    "* beanstalk will provision/deploy code that is suitable for your app"
   ]
  },
  {
   "cell_type": "markdown",
   "metadata": {},
   "source": [
    "#### Lambda\n",
    "* on EC2, you can log into server (via ssh, login:, etc)\n",
    "* on lambda, serverless\n",
    "* no OS\n",
    "* you upload your code\n",
    "* code will respond"
   ]
  },
  {
   "cell_type": "markdown",
   "metadata": {},
   "source": [
    "#### Lightsail\n",
    "* out of the box cloud\n",
    "* eg for wordpress\n",
    "* "
   ]
  },
  {
   "cell_type": "markdown",
   "metadata": {},
   "source": [
    "### Storage"
   ]
  },
  {
   "cell_type": "markdown",
   "metadata": {},
   "source": [
    "#### S3\n",
    "* Simple Storage Service\n",
    "* virtual disk in cloud\n",
    "* disk only, not database files, etc.\n",
    "* place objects in cloud"
   ]
  },
  {
   "cell_type": "markdown",
   "metadata": {},
   "source": [
    "#### Glacier\n",
    "* store files from S3 to Glacier\n",
    "* very slow recovery (3 to 4 hours minimum recovery time)\n",
    "* store files for compliance reasons"
   ]
  },
  {
   "cell_type": "markdown",
   "metadata": {},
   "source": [
    "#### EFS\n",
    "* Elastic File Service\n",
    "* file based storage, can be shared\n",
    "* you could install application or db files."
   ]
  },
  {
   "cell_type": "markdown",
   "metadata": {
    "ExecuteTime": {
     "end_time": "2017-11-13T11:54:04.051783Z",
     "start_time": "2017-11-13T11:54:04.048753Z"
    }
   },
   "source": [
    "#### Storage Gateway\n",
    "* Connect S3 to your on prem servers\n",
    "* usually a virtual machine you install on-prem"
   ]
  },
  {
   "cell_type": "markdown",
   "metadata": {},
   "source": [
    "### Databases"
   ]
  },
  {
   "cell_type": "markdown",
   "metadata": {},
   "source": [
    "#### RDS\n",
    "* MySql, Oracle, Sql Server, Postgress SQL, MariaDB, \n",
    "* Aroura (2 flavours Postress, MySql)"
   ]
  },
  {
   "cell_type": "markdown",
   "metadata": {},
   "source": [
    "#### Redshift\n",
    "* Data Warehouse\n",
    "* mainly for a copy of your Prod DB\n",
    "* used for reports"
   ]
  },
  {
   "cell_type": "markdown",
   "metadata": {},
   "source": [
    "#### DynamoDB\n",
    "* Non Relation DB\n",
    "* NoSql DB\n",
    "* High Perf, High Scalable"
   ]
  },
  {
   "cell_type": "markdown",
   "metadata": {},
   "source": [
    "#### Elasticache\n",
    "* cache your data in the cloud\n",
    "* takes load of DB"
   ]
  },
  {
   "cell_type": "markdown",
   "metadata": {
    "ExecuteTime": {
     "end_time": "2017-11-13T11:59:39.923106Z",
     "start_time": "2017-11-13T11:59:39.920850Z"
    }
   },
   "source": [
    "### Migration Service"
   ]
  },
  {
   "cell_type": "markdown",
   "metadata": {},
   "source": [
    "#### Snowball\n",
    "* started out as Import/Export\n",
    "* Enterprise level to move terrabytes of data to the cloud\n",
    "* ready for Amazon to load for you."
   ]
  },
  {
   "cell_type": "markdown",
   "metadata": {},
   "source": [
    "#### DMS\n",
    "* migrate on prem to cloud\n",
    "* migrate AWS region to region\n",
    "* no downtime\n",
    "* migrate from Oracle to Aurara (for example)"
   ]
  },
  {
   "cell_type": "markdown",
   "metadata": {},
   "source": [
    "#### SMS\n",
    "* Server Migration Service\n",
    "* migrate virtual machine to cloud"
   ]
  },
  {
   "cell_type": "markdown",
   "metadata": {},
   "source": [
    "### Analytics"
   ]
  },
  {
   "cell_type": "markdown",
   "metadata": {},
   "source": [
    "#### Athena\n",
    "* run sql queries directly on S3\n",
    "* turns flat files into a pseudo database"
   ]
  },
  {
   "cell_type": "markdown",
   "metadata": {},
   "source": [
    "#### EMR \n",
    "* Elastic Map Reduce\n",
    "* Process large amount of data (uses hardoop)"
   ]
  },
  {
   "cell_type": "markdown",
   "metadata": {},
   "source": [
    "#### Cloud Search / Elastic Search\n",
    "* cloud - fully managed search managed by AWS\n",
    "* Elastic - open source framework\n",
    "* create search capabilities within your application."
   ]
  },
  {
   "cell_type": "markdown",
   "metadata": {},
   "source": [
    "#### Kinesis\n",
    "* stream and analys real time data\n",
    "* financial transactions analyzed on the fly\n",
    "* social media streams analyzed on the fly"
   ]
  },
  {
   "cell_type": "markdown",
   "metadata": {},
   "source": [
    "#### Data Pipeline\n",
    "* move data from one place to another\n",
    "* eg s3 to dynamo db or visa versa"
   ]
  },
  {
   "cell_type": "markdown",
   "metadata": {},
   "source": [
    "#### Quick Sight\n",
    "* business analytics tool"
   ]
  },
  {
   "cell_type": "markdown",
   "metadata": {},
   "source": [
    "### Security and Identity"
   ]
  },
  {
   "cell_type": "markdown",
   "metadata": {},
   "source": [
    "#### IAM\n",
    "Identity Access Management\n",
    "create users, groups, assign users to groups"
   ]
  },
  {
   "cell_type": "markdown",
   "metadata": {},
   "source": [
    "#### Inspector\n",
    "Agent to install on virtual machine\n",
    "Does Security reporting"
   ]
  },
  {
   "cell_type": "markdown",
   "metadata": {},
   "source": [
    "#### Certificate Manager\n",
    "free SSL cert for your domain name"
   ]
  },
  {
   "cell_type": "markdown",
   "metadata": {},
   "source": [
    "#### Directory Service\n",
    "Use AD, connect AWS to your AD"
   ]
  },
  {
   "cell_type": "markdown",
   "metadata": {},
   "source": [
    "#### WAF\n",
    "Web Application Firewall\n",
    "application level protection to your firewall\n",
    "stop sql injection, cross site scripting, etc"
   ]
  },
  {
   "cell_type": "markdown",
   "metadata": {},
   "source": [
    "#### Artifacts\n",
    "Doc in console\n",
    "Compliance Reports\n",
    "eg get iso27001 certification"
   ]
  },
  {
   "cell_type": "markdown",
   "metadata": {},
   "source": [
    "### Management Tools\n",
    "#### Cloud Watch\n",
    "monitor Performance of AWS environment\n",
    "disk utilization, cpu, etc\n",
    "\n",
    "#### Cloud Formation\n",
    "turn intrastructure into code\n",
    "instead of having network / switch / etc / load balancers\n",
    "it is a doc that describes your env.\n",
    "Then deploy at will.\n",
    "\n",
    "#### Cloud Trail\n",
    "Audit AWS Resource\n",
    "\n",
    "#### Opsworks\n",
    "Automate deployments using \"chef\" -- i guess its like puppet\n",
    "\n",
    "#### Config\n",
    "monitor env\n",
    "audit env, can set alerts for changes in policy\n",
    "\n",
    "#### Service Catalog\n",
    "for Larger enterprises\n",
    "Can authorize certain types of eg ec2, and not auth other types of ec2.\n",
    "\n",
    "#### Trusted Advisor\n",
    "Aws Sol Arch Team will come to your org, make a series of recommendataions\n",
    "trusted advisor will automate this process\n",
    "eg build a more fault tolerant env.\n"
   ]
  },
  {
   "cell_type": "markdown",
   "metadata": {},
   "source": [
    "\n",
    "### Application Services\n",
    "#### Step Functions\n",
    "visualize what is going on in your application\n",
    "\n",
    "#### SWF\n",
    "simple workflow services\n",
    "co-ordinate automated tasks and human tasks\n",
    "\n",
    "#### API Gateway\n",
    "door\n",
    "create, monitor, secure gateways at scale\n",
    "door for apps to access backend data.\n",
    "\n",
    "#### AppStream\n",
    "stream desktop app to users\n",
    "\n",
    "#### Elasic Transcoder\n",
    "Transform a video to any different type required for diff machine\n",
    "\n"
   ]
  },
  {
   "cell_type": "markdown",
   "metadata": {},
   "source": [
    "\n",
    "\n",
    "### Developer Tools\n",
    "####Code Commit\n",
    "basically github\n",
    "\n",
    "#### Code Build\n",
    "compile code\n",
    "pay by minute\n",
    "\n",
    "#### Code deploy\n",
    "deploy code to ec2 instances\n",
    "\n",
    "#### code pipeline\n",
    "keep track of code in diff environments (diff version in uat to prod).\n",
    "\n",
    "\n"
   ]
  },
  {
   "cell_type": "markdown",
   "metadata": {},
   "source": [
    "### Mobile Services\n",
    "\n",
    "####  Mobile Hub\n",
    "add, configure and design features for mobile apps\n",
    "user auth, backend storage, etc\n",
    "\n",
    "#### Cognito\n",
    "users sign up and sign into your apps using social media id\n",
    "\n",
    "#### Device Farm\n",
    "quality of ios / android improved by testing on hundreds of real world apps\n",
    "\n",
    "#### Mobile Analytics\n",
    "simply and cost effectivly collect app usage data\n",
    "\n",
    "#### pinpoint\n",
    "enable understand mobile users - google analytics for mobile app.\n",
    "\n",
    "\n"
   ]
  },
  {
   "cell_type": "markdown",
   "metadata": {},
   "source": [
    "### Business Productivity \n",
    "#### Work Docs\n",
    "store docs in cloud, lots of security\n",
    "\n",
    "#### WorkMail\n",
    "exchange for AWS\n"
   ]
  },
  {
   "cell_type": "markdown",
   "metadata": {},
   "source": [
    "### IOT\n",
    "#### iOT\n",
    "internet of things\n"
   ]
  },
  {
   "cell_type": "markdown",
   "metadata": {},
   "source": [
    "### Desktop and App Streaming\n",
    "\n",
    "#### WorkSpaces\n",
    "vdi - desktop in cloud\n",
    "\n",
    "#### AppStream 2.0\n",
    "stream desktop app to users\n"
   ]
  },
  {
   "cell_type": "markdown",
   "metadata": {},
   "source": [
    "### Artificial Intelligence\n",
    "\n",
    "Read this book: Superintelligence by Nick Bostrom; Paths, Dangers, Strategies\n",
    "\n",
    "#### alexa\n",
    "lex is the service, no longer need an echo\n",
    "\n",
    "#### polly\n",
    "take any text, turn into voice\n",
    "diff voice, diff language\n",
    "\n",
    "#### Machine Learning\n",
    "give a data set\n",
    "give it outcomes\n",
    "predict outcome\n",
    "\n",
    "#### Rekognition\n",
    "upload picture\n",
    "will tell you what is in that picture\n",
    "\n"
   ]
  },
  {
   "cell_type": "markdown",
   "metadata": {},
   "source": [
    "### Messaging\n",
    "\n",
    "#### SNS \n",
    "simple notification services\n",
    "email\n",
    "sms/text\n",
    "publishing\n",
    "http/https\n",
    "\n",
    "#### SQS\n",
    "decouple app\n",
    "queue system\n",
    "\n",
    "#### SES\n",
    "simple email service"
   ]
  },
  {
   "cell_type": "markdown",
   "metadata": {},
   "source": []
  }
 ],
 "metadata": {
  "kernelspec": {
   "display_name": "Python 3",
   "language": "python",
   "name": "python3"
  },
  "language_info": {
   "codemirror_mode": {
    "name": "ipython",
    "version": 3
   },
   "file_extension": ".py",
   "mimetype": "text/x-python",
   "name": "python",
   "nbconvert_exporter": "python",
   "pygments_lexer": "ipython3",
   "version": "3.6.3"
  },
  "toc": {
   "nav_menu": {},
   "number_sections": true,
   "sideBar": true,
   "skip_h1_title": false,
   "toc_cell": false,
   "toc_position": {
    "height": "785px",
    "left": "0px",
    "right": "1698.68px",
    "top": "136px",
    "width": "337px"
   },
   "toc_section_display": "block",
   "toc_window_display": true
  },
  "varInspector": {
   "cols": {
    "lenName": 16,
    "lenType": 16,
    "lenVar": 40
   },
   "kernels_config": {
    "python": {
     "delete_cmd_postfix": "",
     "delete_cmd_prefix": "del ",
     "library": "var_list.py",
     "varRefreshCmd": "print(var_dic_list())"
    },
    "r": {
     "delete_cmd_postfix": ") ",
     "delete_cmd_prefix": "rm(",
     "library": "var_list.r",
     "varRefreshCmd": "cat(var_dic_list()) "
    }
   },
   "types_to_exclude": [
    "module",
    "function",
    "builtin_function_or_method",
    "instance",
    "_Feature"
   ],
   "window_display": true
  }
 },
 "nbformat": 4,
 "nbformat_minor": 2
}
