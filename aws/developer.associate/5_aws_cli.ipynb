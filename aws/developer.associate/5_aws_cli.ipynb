{
 "cells": [
  {
   "cell_type": "markdown",
   "metadata": {},
   "source": [
    "# AWS CLI Command Line Interface"
   ]
  },
  {
   "cell_type": "markdown",
   "metadata": {},
   "source": [
    "## Setup / Configure\n",
    "---\n",
    "\n",
    "* aws configure\n",
    "    * enter key id:\n",
    "    * enter Secret Access Key:\n",
    "    * enter default region     (google aws region list)\n",
    "    * enter detault output   \n",
    "    \n",
    " ---\n",
    " \n",
    "* Example:\n",
    "     * aws s3 ls\n",
    "     * aws s3 help     -- display options for this service\n",
    "     * aws ec2 describe-instances    -- list all instances\n",
    "     * aws ec2 terminate-instances --instance-ids i-123456"
   ]
  },
  {
   "cell_type": "markdown",
   "metadata": {},
   "source": [
    "## Identity Access Mangement Roles Lab\n",
    "---\n",
    "* if you loose your credentials, someone will upload a huge bitcoin miner and drain your account.\n",
    "* select IAM\n",
    "* Create Service Role (note this is GLOBAL)\n",
    "    * click Amazon EC2\n",
    "    * Filter by S3\n",
    "    * Select S3 Full Access > Next\n",
    "    * name: S3-Admin-Access\n",
    "* Create EC2\n",
    "    * On configure Instance Details, add IAM Role: S3-Admin-Access\n",
    "    * everything else default.\n",
    "* Note: can add additional policies on the fly \n",
    "    * EC2 > Actions > Instance Settings > Add/Replace IAM Role\n",
    "* Log into EC2\n",
    "    * aws s3 ls     -- Now works without adding any credentials!!! Yay.\n",
    "    * can still set default region using aws credentials, but add no key or id."
   ]
  },
  {
   "cell_type": "markdown",
   "metadata": {},
   "source": [
    "# S3 CLI and Regions\n",
    "---\n",
    "* create a default instance\n",
    "* Create S3 buckets\n",
    "* copy from buckets to EC2\n",
    "    * aws s3 cp --recursive s3://{s3-name}/ /home/ec2-user/target_dir \n",
    "    * aws s3 cp --recursive s3://{s3-name}/ /home/ec2-user/target_dir --region eu-west-2   \n",
    "    * --region flag only required to copy from some regions; but if copying across regions, prob good idea to get into habit of using it.\n",
    "    "
   ]
  },
  {
   "cell_type": "code",
   "execution_count": null,
   "metadata": {},
   "outputs": [],
   "source": []
  }
 ],
 "metadata": {
  "kernelspec": {
   "display_name": "Python 2",
   "language": "python",
   "name": "python2"
  },
  "language_info": {
   "codemirror_mode": {
    "name": "ipython",
    "version": 2
   },
   "file_extension": ".py",
   "mimetype": "text/x-python",
   "name": "python",
   "nbconvert_exporter": "python",
   "pygments_lexer": "ipython2",
   "version": "2.7.14"
  },
  "toc": {
   "nav_menu": {},
   "number_sections": true,
   "sideBar": true,
   "skip_h1_title": false,
   "toc_cell": false,
   "toc_position": {},
   "toc_section_display": "block",
   "toc_window_display": true
  },
  "varInspector": {
   "cols": {
    "lenName": 16,
    "lenType": 16,
    "lenVar": 40
   },
   "kernels_config": {
    "python": {
     "delete_cmd_postfix": "",
     "delete_cmd_prefix": "del ",
     "library": "var_list.py",
     "varRefreshCmd": "print(var_dic_list())"
    },
    "r": {
     "delete_cmd_postfix": ") ",
     "delete_cmd_prefix": "rm(",
     "library": "var_list.r",
     "varRefreshCmd": "cat(var_dic_list()) "
    }
   },
   "types_to_exclude": [
    "module",
    "function",
    "builtin_function_or_method",
    "instance",
    "_Feature"
   ],
   "window_display": false
  }
 },
 "nbformat": 4,
 "nbformat_minor": 2
}
