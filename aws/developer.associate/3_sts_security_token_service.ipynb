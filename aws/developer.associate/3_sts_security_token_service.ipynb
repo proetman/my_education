{
 "cells": [
  {
   "cell_type": "markdown",
   "metadata": {},
   "source": [
    "# Security Token Service (STS)"
   ]
  },
  {
   "cell_type": "markdown",
   "metadata": {},
   "source": [
    "* grants users limited and temp access to aws resources\n",
    "* users from\n",
    "    * federation (typically AD)\n",
    "        * users SAML - security assertion markup language\n",
    "        * temp access based on AD cred; does not need to be user in IAM\n",
    "        * signle sign on allows users to log in to aws console without assigning IAM credentials\n",
    "    * federation with mobile apps\n",
    "        * use facebook/amazon/google or other openID\n",
    "    * cross account access\n",
    "        * users from one aws account access resources in another.\n",
    "\n",
    "\n",
    "\n",
    "## Key Terms\n",
    "\n",
    "* Federation: combine/join list of users in one domain (eg IAM) to another (AD, or Facebook)\n",
    "* Identity Broker: service allows take id from point A, and join it (federate it) to point B. This does not normally come out of the box, you need to develop it yourself.\n",
    "* Identity Store: Service like AD, Facebook, Google, etc\n",
    "* Identities: user of a service\n",
    "\n"
   ]
  },
  {
   "cell_type": "markdown",
   "metadata": {},
   "source": [
    "## Scenario\n",
    "\n",
    "### Scenario 1\n",
    "you are hosting company website on ec2 web servers in your VPC. Users log in to site which then authenticates against company AD server based on site at companies HQ. Your VPC is connnected to your company HQ via securiyt IPSEC VPN. Once logged in, user can only have access to there own S3 bucket.\n",
    "\n",
    "How do you set this up?\n",
    "\n",
    "![STS Scenario](images/STS_example.png)\n",
    "\n",
    "1. Employee enters username/password\n",
    "1. app call id broker, broker captures u/p\n",
    "1. id broker uses org's LDAP dir to validate u/p\n",
    "1. id broker call new GetFederationToken function using IAM credentials. Call must include IAM policy and duartion (1 to 36 hours), along with policy that specifies permission to be granted to the temp security credentials.\n",
    "1. the STS confirms policy of IAM user making call to GetFederationToken gives perm to create new tokens and then returns four values\n",
    "    * access key\n",
    "    * secret access key\n",
    "    * token\n",
    "    * duration\n",
    "1. id broker returns temp security cred to reporting app\n",
    "1. data storage app uses temp security cred (including tokens) to make requests to S3\n",
    "1. S3 uses IAM to verify the creds allow the requested op on give s3 bucket and key\n",
    "1. IAM provides s3 with go-ahead to perform requested app.\n",
    "\n",
    "Broken down into major steps only:\n",
    "\n",
    "1. Develop ID Broker to communicate with LDAP and AWS STS\n",
    "1. ID Broker always authenticates with LDAP first, then with AWS STS\n",
    "1. App then get temp access to AWS resources.\n",
    "\n",
    "\n",
    "### Scenario 2\n",
    "\n",
    "1. develop ID Broker to communicate with LDAP and AWS STS\n",
    "1. ID Broker always auth to LDAP first, gets IAM ROLE associated with user\n",
    "1. App then auth with STS and assumes that IAM Role\n",
    "1. App user IAM role to interact with S3\n",
    "\n",
    "![scenario2](images/STS_scenario_2.png)\n",
    "\n",
    "take away\n",
    "1. you can auth against AD, YES, using AD\n",
    "1. auth against AD first, then get SAML\n",
    "\n"
   ]
  },
  {
   "cell_type": "code",
   "execution_count": null,
   "metadata": {},
   "outputs": [],
   "source": []
  }
 ],
 "metadata": {
  "kernelspec": {
   "display_name": "Python 3",
   "language": "python",
   "name": "python3"
  },
  "language_info": {
   "codemirror_mode": {
    "name": "ipython",
    "version": 3
   },
   "file_extension": ".py",
   "mimetype": "text/x-python",
   "name": "python",
   "nbconvert_exporter": "python",
   "pygments_lexer": "ipython3",
   "version": "3.6.3"
  },
  "toc": {
   "nav_menu": {},
   "number_sections": true,
   "sideBar": true,
   "skip_h1_title": false,
   "toc_cell": false,
   "toc_position": {},
   "toc_section_display": "block",
   "toc_window_display": true
  },
  "varInspector": {
   "cols": {
    "lenName": 16,
    "lenType": 16,
    "lenVar": 40
   },
   "kernels_config": {
    "python": {
     "delete_cmd_postfix": "",
     "delete_cmd_prefix": "del ",
     "library": "var_list.py",
     "varRefreshCmd": "print(var_dic_list())"
    },
    "r": {
     "delete_cmd_postfix": ") ",
     "delete_cmd_prefix": "rm(",
     "library": "var_list.r",
     "varRefreshCmd": "cat(var_dic_list()) "
    }
   },
   "types_to_exclude": [
    "module",
    "function",
    "builtin_function_or_method",
    "instance",
    "_Feature"
   ],
   "window_display": false
  }
 },
 "nbformat": 4,
 "nbformat_minor": 2
}
