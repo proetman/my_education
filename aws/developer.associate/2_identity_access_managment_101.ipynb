{
 "cells": [
  {
   "cell_type": "markdown",
   "metadata": {},
   "source": [
    "# Identity Access Managment 101"
   ]
  },
  {
   "cell_type": "markdown",
   "metadata": {},
   "source": [
    "* Manage users\n",
    "* level of access\n",
    "\n",
    "* Centralized control of AWS account\n",
    "* Shared access to AWS console\n",
    "* Granular Permissions\n",
    "* Identity Federations (including AD, Facebook, Linkedin, etc)\n",
    "* Multi-factor Authentication\n",
    "* temp access to users/devices and services where necessary\n",
    "* setup own password rotation policy\n",
    "* supports PCI DSS Compliance\n",
    "\n",
    "Critical Terms\n",
    "* Users - end users\n",
    "* Groups - collection of users under one set of permissions\n",
    "* Roles - create roles assign them to aws resources (eg assign role that ec2 can write directly to s3, so it is not user based!)\n",
    "* Policies - doc that defines one (or more) permissions. Can attach to user, or group, or role, or all three!\n",
    "\n"
   ]
  },
  {
   "cell_type": "markdown",
   "metadata": {},
   "source": [
    "# 101 - Lab"
   ]
  },
  {
   "cell_type": "markdown",
   "metadata": {},
   "source": [
    "First, customize your account name. Click customize, then select a name (needs to be unique in the world).\n",
    "![customize](images/customize_name.png)\n",
    "\n",
    "After changing, your IAM User sign-in link changes to   \n",
    "    https://new_username.signin.aws.amazon.com/console"
   ]
  },
  {
   "cell_type": "markdown",
   "metadata": {},
   "source": [
    "### Enable MFA - Multi Function Device\n",
    "\n",
    "Under Security Status, there are a bunch of \"bad\" security options.\n",
    "* click enable MFA\n",
    "* Select virtual MFA device, click the \"here\" button to see full list of apps [here](https://aws.amazon.com/iam/details/mfa/)\n",
    "* Install Google Authenticator on Apple Phone, then scan QR code\n",
    "* Add the next two codes that show up on app onto screen\n",
    "* finilize\n"
   ]
  },
  {
   "cell_type": "markdown",
   "metadata": {},
   "source": [
    "### Add Users\n",
    "\n",
    "Create two users \n",
    "* bob\n",
    "* mary\n",
    "\n",
    "For both, select programmatic access and AWS Management Console Access\n",
    "\n",
    "Assign password/change at next login/etc\n",
    "\n",
    "* On \"next\" it flicks to next screen to \"set permissions for BOB and MARY\".\n",
    "* can\n",
    "    * add users to group\n",
    "    * copy perm from existing user\n",
    "    * attach existing policies directly\n",
    "* here , we are going to create a group (eg group for dev, group for finance, etc)\n",
    "* create group for system-admins\n",
    "* \"policy type\" type in Admin, list will be filtered\n",
    "* for this case, we will select adminstrator access, which is god level."
   ]
  },
  {
   "cell_type": "markdown",
   "metadata": {},
   "source": [
    "### Create Group Names and Roles\n",
    "* Groups\n",
    "* create group: testgroup_hr\n",
    "* assign policy S3 read only\n",
    "* remove bob from Admin, add to testgroup_hr\n",
    "* you can then add permissions directly to bob, rather than using groups.\n",
    "\n",
    "* if you loose the access key, deactivate the lost key, then create new access key in Security Credentials section\n",
    "\n",
    "* Can also allocate a ROLE to a user\n",
    "* role in this case will allow EC2 to call an AWS Service on your behalf.\n",
    "* EC2 will call Lambda on your behalf.\n",
    "* on Permissions window, select Full S3 access\n",
    "* give it a name \"S3-Admin-Access\", desc: This is full access to S3 for EC2\n",
    "* now that ROLE exists\n",
    "* can apply that role to an EC2 instance when it is created."
   ]
  },
  {
   "cell_type": "code",
   "execution_count": null,
   "metadata": {},
   "outputs": [],
   "source": []
  }
 ],
 "metadata": {
  "kernelspec": {
   "display_name": "Python 3",
   "language": "python",
   "name": "python3"
  },
  "language_info": {
   "codemirror_mode": {
    "name": "ipython",
    "version": 3
   },
   "file_extension": ".py",
   "mimetype": "text/x-python",
   "name": "python",
   "nbconvert_exporter": "python",
   "pygments_lexer": "ipython3",
   "version": "3.6.3"
  },
  "toc": {
   "nav_menu": {},
   "number_sections": true,
   "sideBar": true,
   "skip_h1_title": false,
   "toc_cell": false,
   "toc_position": {},
   "toc_section_display": "block",
   "toc_window_display": true
  },
  "varInspector": {
   "cols": {
    "lenName": 16,
    "lenType": 16,
    "lenVar": 40
   },
   "kernels_config": {
    "python": {
     "delete_cmd_postfix": "",
     "delete_cmd_prefix": "del ",
     "library": "var_list.py",
     "varRefreshCmd": "print(var_dic_list())"
    },
    "r": {
     "delete_cmd_postfix": ") ",
     "delete_cmd_prefix": "rm(",
     "library": "var_list.r",
     "varRefreshCmd": "cat(var_dic_list()) "
    }
   },
   "types_to_exclude": [
    "module",
    "function",
    "builtin_function_or_method",
    "instance",
    "_Feature"
   ],
   "window_display": false
  }
 },
 "nbformat": 4,
 "nbformat_minor": 2
}
