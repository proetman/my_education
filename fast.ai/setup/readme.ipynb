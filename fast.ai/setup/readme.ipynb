{
 "cells": [
  {
   "cell_type": "markdown",
   "metadata": {
    "toc": true
   },
   "source": [
    "<h1>Table of Contents<span class=\"tocSkip\"></span></h1>\n",
    "<div class=\"toc\" style=\"margin-top: 1em;\"><ul class=\"toc-item\"><li><span><a href=\"#Readme.md-from-Course\" data-toc-modified-id=\"Readme.md-from-Course-1\"><span class=\"toc-item-num\">1&nbsp;&nbsp;</span>Readme.md from Course</a></span></li><li><span><a href=\"#Setup-instructions-for-AWS\" data-toc-modified-id=\"Setup-instructions-for-AWS-2\"><span class=\"toc-item-num\">2&nbsp;&nbsp;</span>Setup instructions for AWS</a></span><ul class=\"toc-item\"><li><span><a href=\"#Config-Notes-for-setup-automagically....\" data-toc-modified-id=\"Config-Notes-for-setup-automagically....-2.1\"><span class=\"toc-item-num\">2.1&nbsp;&nbsp;</span>Config Notes for setup automagically....</a></span><ul class=\"toc-item\"><li><span><a href=\"#Steps-to-build-an-a-machine-for-fast.ai\" data-toc-modified-id=\"Steps-to-build-an-a-machine-for-fast.ai-2.1.1\"><span class=\"toc-item-num\">2.1.1&nbsp;&nbsp;</span>Steps to build an a machine for fast.ai</a></span></li><li><span><a href=\"#Elastic-machine\" data-toc-modified-id=\"Elastic-machine-2.1.2\"><span class=\"toc-item-num\">2.1.2&nbsp;&nbsp;</span>Elastic machine</a></span></li><li><span><a href=\"#Build-machine-from-Template\" data-toc-modified-id=\"Build-machine-from-Template-2.1.3\"><span class=\"toc-item-num\">2.1.3&nbsp;&nbsp;</span>Build machine from Template</a></span></li></ul></li><li><span><a href=\"#Configure-AWS\" data-toc-modified-id=\"Configure-AWS-2.2\"><span class=\"toc-item-num\">2.2&nbsp;&nbsp;</span>Configure AWS</a></span><ul class=\"toc-item\"><li><span><a href=\"#Profiles\" data-toc-modified-id=\"Profiles-2.2.1\"><span class=\"toc-item-num\">2.2.1&nbsp;&nbsp;</span>Profiles</a></span></li></ul></li></ul></li></ul></div>"
   ]
  },
  {
   "cell_type": "markdown",
   "metadata": {},
   "source": [
    "# Readme.md from Course"
   ]
  },
  {
   "cell_type": "code",
   "execution_count": 1,
   "metadata": {
    "ExecuteTime": {
     "end_time": "2017-11-10T23:22:23.179741Z",
     "start_time": "2017-11-10T23:22:23.168480Z"
    },
    "code_folding": [],
    "run_control": {
     "marked": true
    }
   },
   "outputs": [
    {
     "data": {
      "text/markdown": [
       "## List of files\n",
       "| File                  | Purpose       |\n",
       "| --------------------- | ------------- |\n",
       "| `aws-alias.sh`        | Command aliases that make AWS server management easier. |\n",
       "| `instal-gpu-azure.sh` | Installs required software on an Azure Ubuntu server. Instructions available on the [wiki](http://wiki.fast.ai/index.php/Azure_install). |\n",
       "| `install-gpu.sh`      | Installs required software on an Ubuntu machine. Instructions available on the [wiki](http://wiki.fast.ai/index.php/Ubuntu_installation). |\n",
       "| `setup_instance.sh`   | Sets up an AWS environment for use in the course including a server that has the required software installed. This script is used by `setup_p2.sh` or `setup_t2.sh`. You probably don't need to call it by itself. |\n",
       "| `setup_p2.sh` and `setup_t2.sh` | Configure environment variables for use in `setup_instance.sh`. These files call `setup_instance.sh`, which does the actual work of setting up the AWS instance. |\n",
       "\n",
       "## Setup Instructions\n",
       "\n",
       "### AWS\n",
       "If you haven't already, view the video at http://course.fast.ai/lessons/aws.html for the steps you need to complete before running these scripts. More information is available on the [wiki](http://wiki.fast.ai/index.php/AWS_install).\n",
       "1. Decide if you will use a GPU server or a standard server. GPU servers process deep learning jobs faster than general purpose servers, but they cost more per hour. Compare server pricing at https://aws.amazon.com/ec2/pricing/on-demand/.\n",
       "2. Download `setup_p2.sh` if you decided on the GPU server or `setup_t2.sh` for the general purpose server. Also download `setup_instance.sh`.\n",
       "3. Run the command `bash setup_p2.sh` or `bash setup_t2.sh`, depending on the file you downloaded. Run the command locally from the folder where the files were downloaded. Running `bash setup_p2.sh` sets up a p2.xlarge GPU server. `bash setup_p2.sh` sets up a t2.xlarge general purpose server.\n",
       "4. The script will set up the server you selected along with other pieces of AWS infrastructure. When it finishes, it will print out the command for connecting to the new server. The server is preloaded with the software required for the course.\n",
       "5. Learn how to use the provided AWS aliases on the [wiki](http://wiki.fast.ai/index.php/AWS_install#Once_you_create_an_instance).\n",
       "\n",
       "### Azure\n",
       "Once you have an Azure GPU server set up, download and run the `install-gpu-azure.sh` script on that server. More instructions available on the [wiki](http://wiki.fast.ai/index.php/Azure_install).\n",
       "\n",
       "### Ubuntu\n",
       "Download and run the `install-gpu.sh` script to install required software on an Ubuntu machine. More instructions available on the [wiki](http://wiki.fast.ai/index.php/Ubuntu_installation)."
      ],
      "text/plain": [
       "<IPython.core.display.Markdown object>"
      ]
     },
     "metadata": {},
     "output_type": "display_data"
    }
   ],
   "source": [
    "# Display the README.md file supplied with the course.\n",
    "from IPython.display import display, Markdown\n",
    "\n",
    "with open('README.md', 'r') as fh:\n",
    "    content = fh.read()\n",
    "\n",
    "display(Markdown(content))"
   ]
  },
  {
   "cell_type": "markdown",
   "metadata": {
    "collapsed": true
   },
   "source": [
    "# Setup instructions for AWS"
   ]
  },
  {
   "cell_type": "markdown",
   "metadata": {},
   "source": [
    "* Local Machine\n",
    "    * Requires Anaconda python 2.7, 64 bit\n",
    "    * pip install awscli\n",
    "    * require Access Key ID and Secret Access Key (after create user); may not be able to get these later.\n",
    "    * run \n",
    "        * aws configure, requires access key id, secret access key\n",
    "        * Region: us-west-2\n",
    "        * output: text\n",
    "    \n",
    "            \n",
    "    \n"
   ]
  },
  {
   "cell_type": "markdown",
   "metadata": {},
   "source": [
    "## Config Notes for setup automagically...."
   ]
  },
  {
   "cell_type": "markdown",
   "metadata": {},
   "source": [
    "* Screen \"Choose AMI\"\n",
    "    * for fast.ai in us-west-2\n",
    "    \n",
    "| ami          | where           | desc     | cost           | bid\n",
    "| ---          | ---             | ---      | ---            | --- |\n",
    "| ami-f8fd5998 |  us-west-2      | Oregon   |  0.29 to 0.31  | 0.3, sometimes not available    \n",
    "| ami-9c5b438b |  us-east-1      | Virginia |  0.19 to 0.38  | 0.23, often not available\n",
    "| ami-9e1a35ed |  eu-west-1      | Ireland  |  0.22 to 0.23  | 0.23, usually available\n",
    "| ami-00000000 |  ap-southeast-2 | Sydney   |  0.23 to 1.54  | 0.23, usually available\n",
    "        \n",
    "* Screen \"Choose Instance Type\"\n",
    "    * p2.xlarge   (real)  4cpu, 61 gig ram, \n",
    "    * t2.xlarge   (test)  4cpu, 16 gig ram, cannot use spot rates on t2.xlarge\n",
    "    * m4.xlarge   (test)  4cpu, 16 gig ram, \n",
    "    * Spot price for m4.large is about 4cents per hour, stable around 0.035\n",
    "    * Spot price for m4.xlarge is about 4cents per hour, stable around 0.038\n",
    "\n",
    "    * to get pricing history Services > EC2 > Spot Requests > Pricing History\n",
    "\n",
    "* Screen \"Configure Instance\"\n",
    "    * check \"Request Spot Instanace\"\n",
    "    * Set Max Price = 0.40   (40 c USD)\n",
    "    \n",
    "* Screen \"Add Storage\"\n",
    "    * default is 128 gig General Purpose SSD (GP2)\n",
    "    \n",
    "* Screen \"Add Tag\"\n",
    "    * Name \"Paul Roetman\"\n",
    "    * Shutdown \"1800\"\n",
    "    \n",
    "* Screen  \"Configure security group\"   \n",
    "    * Add additional rule for 8888 to 8891\n",
    "    \n",
    "\n"
   ]
  },
  {
   "cell_type": "markdown",
   "metadata": {},
   "source": [
    "### Steps to build an a machine for fast.ai"
   ]
  },
  {
   "cell_type": "markdown",
   "metadata": {},
   "source": [
    "### Elastic machine"
   ]
  },
  {
   "cell_type": "markdown",
   "metadata": {},
   "source": [
    "Notes: Build machine from scratch each time\n",
    "\n"
   ]
  },
  {
   "cell_type": "markdown",
   "metadata": {},
   "source": [
    "### Build machine from Template"
   ]
  },
  {
   "cell_type": "markdown",
   "metadata": {},
   "source": [
    "* create template\n",
    "* build machine\n",
    "* run job\n",
    "* save results\n",
    "* shutdown machine\n",
    "\n",
    "* Qu: How to handle fails"
   ]
  },
  {
   "cell_type": "markdown",
   "metadata": {},
   "source": [
    "Steps\n",
    "* build a m3.xlarge that can use all the libraries required for fast.ai (is this possible without GPU?)\n",
    "* automate this\n",
    "* Repeat for p2.xlarge, see how it goes.\n",
    "* introduce deliberate bug, see how it handles it.\n",
    "* -\n",
    "* Can test this on t2.micro, as it is free! "
   ]
  },
  {
   "cell_type": "markdown",
   "metadata": {},
   "source": [
    "## Configure AWS"
   ]
  },
  {
   "cell_type": "markdown",
   "metadata": {},
   "source": [
    "### Profiles"
   ]
  },
  {
   "cell_type": "markdown",
   "metadata": {},
   "source": [
    "```\n",
    "[default]\n",
    "aws_access_key_id=foo\n",
    "aws_secret_access_key=bar\n",
    "region = ap-southeast-2\n",
    "output = text\n",
    "\n",
    "[profile us_east]\n",
    "aws_access_key_id=foo\n",
    "aws_secret_access_key=bar\n",
    "region = us-east-1\n",
    "output = text\n",
    "```\n"
   ]
  },
  {
   "cell_type": "code",
   "execution_count": null,
   "metadata": {},
   "outputs": [],
   "source": []
  }
 ],
 "metadata": {
  "kernelspec": {
   "display_name": "Python 3",
   "language": "python",
   "name": "python3"
  },
  "language_info": {
   "codemirror_mode": {
    "name": "ipython",
    "version": 3
   },
   "file_extension": ".py",
   "mimetype": "text/x-python",
   "name": "python",
   "nbconvert_exporter": "python",
   "pygments_lexer": "ipython3",
   "version": "3.6.3"
  },
  "toc": {
   "nav_menu": {},
   "number_sections": true,
   "sideBar": true,
   "skip_h1_title": false,
   "toc_cell": true,
   "toc_position": {
    "height": "834px",
    "left": "0px",
    "right": "1812.52px",
    "top": "136px",
    "width": "212px"
   },
   "toc_section_display": "block",
   "toc_window_display": true
  },
  "varInspector": {
   "cols": {
    "lenName": 16,
    "lenType": 16,
    "lenVar": 40
   },
   "kernels_config": {
    "python": {
     "delete_cmd_postfix": "",
     "delete_cmd_prefix": "del ",
     "library": "var_list.py",
     "varRefreshCmd": "print(var_dic_list())"
    },
    "r": {
     "delete_cmd_postfix": ") ",
     "delete_cmd_prefix": "rm(",
     "library": "var_list.r",
     "varRefreshCmd": "cat(var_dic_list()) "
    }
   },
   "types_to_exclude": [
    "module",
    "function",
    "builtin_function_or_method",
    "instance",
    "_Feature"
   ],
   "window_display": false
  }
 },
 "nbformat": 4,
 "nbformat_minor": 2
}
